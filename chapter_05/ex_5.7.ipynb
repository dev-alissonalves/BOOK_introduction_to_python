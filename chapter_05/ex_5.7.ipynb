{
 "cells": [
  {
   "cell_type": "code",
   "execution_count": null,
   "metadata": {},
   "outputs": [],
   "source": [
    "import time\n",
    "table_number = int(input(\"Enter a value to calculate the table: \"))\n",
    "start_of_calculation = int(input(\"Enter the initial value of the calculation: \"))\n",
    "end_of_calculation = int(input(\"Enter the final value of the calculation: \"))\n",
    "\n",
    "print(f\"The {table_number} table will be calculated starting at {start_of_calculation} and ending at {end_of_calculation}.\\n\")\n",
    "\n",
    "time.sleep(1)\n",
    "\n",
    "print(\"\\n\\nInitializing...\\n\\n\")\n",
    "\n",
    "time.sleep(1)\n",
    "\n",
    "while start_of_calculation <= end_of_calculation:\n",
    "    print(table_number, \"x\", start_of_calculation, \"=\", table_number * start_of_calculation)\n",
    "    start_of_calculation += 1\n",
    "    time.sleep(1)\n",
    "\n",
    "\n",
    "time.sleep(1)\n",
    "\n",
    "print(\"\\n\\nFinishing...\\n\\n\")\n",
    "\n",
    "time.sleep(1)"
   ]
  }
 ],
 "metadata": {
  "kernelspec": {
   "display_name": "Python 3",
   "language": "python",
   "name": "python3"
  },
  "language_info": {
   "codemirror_mode": {
    "name": "ipython",
    "version": 3
   },
   "file_extension": ".py",
   "mimetype": "text/x-python",
   "name": "python",
   "nbconvert_exporter": "python",
   "pygments_lexer": "ipython3",
   "version": "3.11.6"
  }
 },
 "nbformat": 4,
 "nbformat_minor": 2
}
