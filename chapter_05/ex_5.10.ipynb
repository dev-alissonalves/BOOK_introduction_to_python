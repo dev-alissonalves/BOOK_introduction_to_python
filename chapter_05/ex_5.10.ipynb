{
 "cells": [
  {
   "cell_type": "code",
   "execution_count": 4,
   "metadata": {},
   "outputs": [
    {
     "name": "stdout",
     "output_type": "stream",
     "text": [
      "The student scored 3 points\n"
     ]
    }
   ],
   "source": [
    "points = 0\n",
    "question = 1\n",
    "\n",
    "while question <= 3:\n",
    "    response = input(f\"Question answer {question}: \")\n",
    "\n",
    "    if question == 1 and (response == 'b' or response == 'B'):\n",
    "        points += 1\n",
    "    if question == 2 and (response == 'a' or response == 'A'):\n",
    "        points += 1\n",
    "    if question == 3 and (response == 'd' or response == 'D'):\n",
    "        points += 1\n",
    "    question += 1\n",
    "\n",
    "print(f\"The student scored {points} points.\")"
   ]
  }
 ],
 "metadata": {
  "kernelspec": {
   "display_name": "Python 3",
   "language": "python",
   "name": "python3"
  },
  "language_info": {
   "codemirror_mode": {
    "name": "ipython",
    "version": 3
   },
   "file_extension": ".py",
   "mimetype": "text/x-python",
   "name": "python",
   "nbconvert_exporter": "python",
   "pygments_lexer": "ipython3",
   "version": "3.11.6"
  }
 },
 "nbformat": 4,
 "nbformat_minor": 2
}
