{
 "cells": [
  {
   "cell_type": "code",
   "execution_count": 1,
   "metadata": {},
   "outputs": [
    {
     "name": "stdout",
     "output_type": "stream",
     "text": [
      "\n",
      "\n",
      "####### BANK OF AMERICA #######\n",
      "\n",
      "\n",
      "Month 1 = 11.00 earnings.\n",
      "Month 2 = 12.10 earnings.\n",
      "Month 3 = 13.31 earnings.\n",
      "Month 4 = 14.64 earnings.\n",
      "Month 5 = 16.11 earnings.\n",
      "Month 6 = 17.72 earnings.\n",
      "Month 7 = 19.49 earnings.\n",
      "Month 8 = 21.44 earnings.\n",
      "Month 9 = 23.58 earnings.\n",
      "Month 10 = 25.94 earnings.\n",
      "Month 11 = 28.53 earnings.\n",
      "Month 12 = 31.38 earnings.\n",
      "Month 13 = 34.52 earnings.\n",
      "Month 14 = 37.97 earnings.\n",
      "Month 15 = 41.77 earnings.\n",
      "Month 16 = 45.95 earnings.\n",
      "Month 17 = 50.54 earnings.\n",
      "Month 18 = 55.60 earnings.\n",
      "Month 19 = 61.16 earnings.\n",
      "Month 20 = 67.27 earnings.\n",
      "Month 21 = 74.00 earnings.\n",
      "Month 22 = 81.40 earnings.\n",
      "Month 23 = 89.54 earnings.\n",
      "Month 24 = 98.50 earnings.\n"
     ]
    }
   ],
   "source": [
    "import time\n",
    "print(\"\\n\\n####### BANK OF AMERICA #######\\n\\n\")\n",
    "\n",
    "initial_deposit = float(input(\"What is the initial deposit: \"))\n",
    "savings_interest = int(input(\"What is the interest rate (%) on savings? \")) / 100\n",
    "\n",
    "month_initial = 1 \n",
    "monthly_earnings = initial_deposit + (initial_deposit * savings_interest)\n",
    "\n",
    "while month_initial < 25:\n",
    "   print(f\"Month {month_initial} = {monthly_earnings:.2f} earnings.\")\n",
    "   month_initial += 1\n",
    "   monthly_earnings += monthly_earnings * savings_interest\n",
    "   time.sleep(1)"
   ]
  }
 ],
 "metadata": {
  "kernelspec": {
   "display_name": "Python 3",
   "language": "python",
   "name": "python3"
  },
  "language_info": {
   "codemirror_mode": {
    "name": "ipython",
    "version": 3
   },
   "file_extension": ".py",
   "mimetype": "text/x-python",
   "name": "python",
   "nbconvert_exporter": "python",
   "pygments_lexer": "ipython3",
   "version": "3.11.6"
  }
 },
 "nbformat": 4,
 "nbformat_minor": 2
}
