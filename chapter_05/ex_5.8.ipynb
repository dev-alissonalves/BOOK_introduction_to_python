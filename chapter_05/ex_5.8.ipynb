{
 "cells": [
  {
   "cell_type": "code",
   "execution_count": null,
   "metadata": {},
   "outputs": [],
   "source": [
    "number_one = int(input(\"Insert the first number: \"))\n",
    "number_two = int(input(\"Insert the second number: \"))\n",
    "counter = number_one\n",
    "accumulator = 1\n",
    "\n",
    "while accumulator < number_two:\n",
    "    number_one += counter\n",
    "    accumulator += 1\n",
    "\n",
    "print(f\"Multiplying {counter} by {number_two} using only the sum (+) as an operator is equal to: {number_one}\")"
   ]
  }
 ],
 "metadata": {
  "kernelspec": {
   "display_name": "Python 3",
   "language": "python",
   "name": "python3"
  },
  "language_info": {
   "codemirror_mode": {
    "name": "ipython",
    "version": 3
   },
   "file_extension": ".py",
   "mimetype": "text/x-python",
   "name": "python",
   "nbconvert_exporter": "python",
   "pygments_lexer": "ipython3",
   "version": "3.11.6"
  }
 },
 "nbformat": 4,
 "nbformat_minor": 2
}
