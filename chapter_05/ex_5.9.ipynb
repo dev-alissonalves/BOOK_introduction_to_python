{
 "cells": [
  {
   "cell_type": "code",
   "execution_count": null,
   "metadata": {},
   "outputs": [],
   "source": [
    "number_one = int(input(\"Insert the first number: \"))\n",
    "number_two = int(input(\"Insert the second number: \"))\n",
    "\n",
    "rest = number_one\n",
    "result = 0\n",
    "\n",
    "while rest >= number_two:\n",
    "    rest -= number_two\n",
    "    result += 1\n",
    "\n",
    "print(f\"The integer result of division is {result} with remainder {rest}.\")"
   ]
  }
 ],
 "metadata": {
  "kernelspec": {
   "display_name": "Python 3",
   "language": "python",
   "name": "python3"
  },
  "language_info": {
   "codemirror_mode": {
    "name": "ipython",
    "version": 3
   },
   "file_extension": ".py",
   "mimetype": "text/x-python",
   "name": "python",
   "nbconvert_exporter": "python",
   "pygments_lexer": "ipython3",
   "version": "3.11.6"
  }
 },
 "nbformat": 4,
 "nbformat_minor": 2
}
